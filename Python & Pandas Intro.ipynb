{
 "cells": [
  {
   "cell_type": "code",
   "execution_count": 278,
   "metadata": {},
   "outputs": [],
   "source": [
    "import numpy as np\n",
    "import pandas as pd\n",
    "import scipy as sp"
   ]
  },
  {
   "cell_type": "code",
   "execution_count": 279,
   "metadata": {},
   "outputs": [],
   "source": [
    "%matplotlib inline\n",
    "import matplotlib.pyplot as plt\n",
    "plt.style.use('ggplot')"
   ]
  },
  {
   "cell_type": "code",
   "execution_count": 280,
   "metadata": {},
   "outputs": [
    {
     "name": "stdout",
     "output_type": "stream",
     "text": [
      "Overwriting hw_data.csv\n"
     ]
    }
   ],
   "source": [
    "%%file hw_data.csv\n",
    "id,sex,weight,height\n",
    "1,M,190,77\n",
    "2,F,120,70\n",
    "3,F,110,68\n",
    "4,M,150,72\n",
    "5,O,120,66\n",
    "6,M,120,60\n",
    "7,F,140,70"
   ]
  },
  {
   "cell_type": "markdown",
   "metadata": {},
   "source": [
    "# Python"
   ]
  },
  {
   "cell_type": "markdown",
   "metadata": {},
   "source": [
    "## 1. Finish creating the following function that takes a list and returns the average value."
   ]
  },
  {
   "cell_type": "code",
   "execution_count": 281,
   "metadata": {
    "scrolled": true
   },
   "outputs": [
    {
     "name": "stdout",
     "output_type": "stream",
     "text": [
      "1\n",
      "2\n",
      "1\n",
      "4\n",
      "3\n",
      "2\n",
      "5\n",
      "9\n"
     ]
    },
    {
     "data": {
      "text/plain": [
       "3.375"
      ]
     },
     "execution_count": 281,
     "metadata": {},
     "output_type": "execute_result"
    }
   ],
   "source": [
    "def average(my_list):\n",
    "    total = 0\n",
    "    for item in my_list:\n",
    "        print(item)\n",
    "        total = total + item\n",
    "    \n",
    "    return (total/len(my_list))\n",
    "\n",
    "average([1,2,1,4,3,2,5,9])"
   ]
  },
  {
   "cell_type": "markdown",
   "metadata": {},
   "source": [
    "## 2. Using a Dictionary keep track of the count of numbers (or items) from a list"
   ]
  },
  {
   "cell_type": "code",
   "execution_count": 282,
   "metadata": {
    "scrolled": true
   },
   "outputs": [
    {
     "data": {
      "text/plain": [
       "{1: 2, 2: 2, 4: 1, 3: 1, 5: 1, 9: 1}"
      ]
     },
     "execution_count": 282,
     "metadata": {},
     "output_type": "execute_result"
    }
   ],
   "source": [
    "def counts(my_list):\n",
    "    counts = dict()\n",
    "    for item in my_list:\n",
    "        counts[item] = my_list.count(item)\n",
    "    \n",
    "    return counts\n",
    "\n",
    "counts([1,2,1,4,3,2,5,9])    "
   ]
  },
  {
   "cell_type": "markdown",
   "metadata": {},
   "source": [
    "## 3.  Using the `counts()` function and the `.split()` function, return a dictionary of most occuring words from the following paragraph. Bonus, remove punctuation from words."
   ]
  },
  {
   "cell_type": "code",
   "execution_count": 283,
   "metadata": {},
   "outputs": [
    {
     "name": "stdout",
     "output_type": "stream",
     "text": [
      "\n",
      "For a minute or two she stood looking at the house and wondering what to do next when suddenly a footman in livery came running out of the wood—(she considered him to be a footman because he was in livery: otherwise judging by his face only she would have called him a fish)—and rapped loudly at the door with his knuckles It was opened by another footman in livery with a round face and large eyes like a frog and both footmen Alice noticed had powdered hair that curled all over their heads She felt very curious to know what it was all about and crept a little way out of the wood to listen\n",
      "The Fish-Footman began by producing from under his arm a great letter nearly as large as himself and this he handed over to the other saying in a solemn tone ‘For the Duchess An invitation from the Queen to play croquet’ The Frog-Footman repeated in the same solemn tone only changing the order of the words a little ‘From the Queen An invitation for the Duchess to play croquet’\n",
      "Then they both bowed low and their curls got entangled together\n",
      "Alice laughed so much at this that she had to run back into the wood for fear of their hearing her and when she next peeped out the Fish-Footman was gone and the other was sitting on the ground near the door staring stupidly up into the sky\n",
      "Alice went timidly up to the door and knocked\n",
      "‘There’s no sort of use in knocking’ said the Footman ‘and that for two reasons First because I’m on the same side of the door as you are secondly because they’re making such a noise inside no one could possibly hear you’ And certainly there was a most extraordinary noise going on within—a constant howling and sneezing and every now and then a great crash as if a dish or kettle had been broken to pieces\n",
      "‘Please then’ said Alice ‘how am I to get in’\n",
      "‘There might be some sense in your knocking’ the Footman went on without attending to her ‘if we had the door between us For instance if you were inside you might knock and I could let you out you know’ He was looking up into the sky all the time he was speaking and this Alice thought decidedly uncivil ‘But perhaps he can’t help it’ she said to herself ‘his eyes are so very nearly at the top of his head But at any rate he might answer questions—How am I to get in’ she repeated aloud\n",
      "‘I shall sit here’ the Footman remarked ‘till tomorrow—’\n",
      "At this moment the door of the house opened and a large plate came skimming out straight at the Footman’s head: it just grazed his nose and broke to pieces against one of the trees behind him\n"
     ]
    }
   ],
   "source": [
    "paragraph_text = '''\n",
    "For a minute or two she stood looking at the house, and wondering what to do next, when suddenly a footman in livery came running out of the wood—(she considered him to be a footman because he was in livery: otherwise, judging by his face only, she would have called him a fish)—and rapped loudly at the door with his knuckles. It was opened by another footman in livery, with a round face, and large eyes like a frog; and both footmen, Alice noticed, had powdered hair that curled all over their heads. She felt very curious to know what it was all about, and crept a little way out of the wood to listen.\n",
    "The Fish-Footman began by producing from under his arm a great letter, nearly as large as himself, and this he handed over to the other, saying, in a solemn tone, ‘For the Duchess. An invitation from the Queen to play croquet.’ The Frog-Footman repeated, in the same solemn tone, only changing the order of the words a little, ‘From the Queen. An invitation for the Duchess to play croquet.’\n",
    "Then they both bowed low, and their curls got entangled together.\n",
    "Alice laughed so much at this, that she had to run back into the wood for fear of their hearing her; and when she next peeped out the Fish-Footman was gone, and the other was sitting on the ground near the door, staring stupidly up into the sky.\n",
    "Alice went timidly up to the door, and knocked.\n",
    "‘There’s no sort of use in knocking,’ said the Footman, ‘and that for two reasons. First, because I’m on the same side of the door as you are; secondly, because they’re making such a noise inside, no one could possibly hear you.’ And certainly there was a most extraordinary noise going on within—a constant howling and sneezing, and every now and then a great crash, as if a dish or kettle had been broken to pieces.\n",
    "‘Please, then,’ said Alice, ‘how am I to get in?’\n",
    "‘There might be some sense in your knocking,’ the Footman went on without attending to her, ‘if we had the door between us. For instance, if you were inside, you might knock, and I could let you out, you know.’ He was looking up into the sky all the time he was speaking, and this Alice thought decidedly uncivil. ‘But perhaps he can’t help it,’ she said to herself; ‘his eyes are so very nearly at the top of his head. But at any rate he might answer questions.—How am I to get in?’ she repeated, aloud.\n",
    "‘I shall sit here,’ the Footman remarked, ‘till tomorrow—’\n",
    "At this moment the door of the house opened, and a large plate came skimming out, straight at the Footman’s head: it just grazed his nose, and broke to pieces against one of the trees behind him.'''\n",
    "\n",
    "paragraph_text = paragraph_text.replace(\"'\", \"\")\n",
    "paragraph_text = paragraph_text.replace(\"?\", \"\")\n",
    "paragraph_text = paragraph_text.replace(\".\", \"\")\n",
    "paragraph_text = paragraph_text.replace(\",\", \"\")\n",
    "paragraph_text = paragraph_text.replace(\";\", \"\")\n",
    "#cannot remove single quote for some reason....\n",
    "print(paragraph_text)"
   ]
  },
  {
   "cell_type": "code",
   "execution_count": 284,
   "metadata": {},
   "outputs": [],
   "source": [
    "file = open(\"homework2.txt\",\"w\") \n",
    " \n",
    "file.write(paragraph_text)\n",
    " \n",
    "file.close()"
   ]
  },
  {
   "cell_type": "code",
   "execution_count": 285,
   "metadata": {},
   "outputs": [
    {
     "data": {
      "text/plain": [
       "{'a': 15,\n",
       " 'she': 6,\n",
       " 'at': 6,\n",
       " 'the': 32,\n",
       " 'and': 16,\n",
       " 'to': 15,\n",
       " 'in': 7,\n",
       " 'of': 9,\n",
       " 'was': 8,\n",
       " 'door': 6}"
      ]
     },
     "execution_count": 285,
     "metadata": {},
     "output_type": "execute_result"
    }
   ],
   "source": [
    "plist = paragraph_text.split(\" \")\n",
    "def counts(my_list):\n",
    "    counts = dict()\n",
    "    for item in my_list:\n",
    "        if my_list.count(item) >5:\n",
    "            counts[item] = my_list.count(item)\n",
    "        else: \n",
    "            pass\n",
    "    \n",
    "    return counts\n",
    "\n",
    "counts(plist)"
   ]
  },
  {
   "cell_type": "markdown",
   "metadata": {},
   "source": [
    "## 4. Read in a file and write each line from the file to a new file Title-ized\n",
    "\n",
    "`This is the first line` ->  `This Is The First Line`\n",
    "\n",
    "Hint: There's a function to do this"
   ]
  },
  {
   "cell_type": "code",
   "execution_count": 286,
   "metadata": {},
   "outputs": [
    {
     "data": {
      "text/plain": [
       "'\\nFor A Minute Or Two She Stood Looking At The House And Wondering What To Do Next When Suddenly A Footman In Livery Came Running Out Of The Wood—(She Considered Him To Be A Footman Because He Was In Livery: Otherwise Judging By His Face Only She Would Have Called Him A Fish)—And Rapped Loudly At The Door With His Knuckles It Was Opened By Another Footman In Livery With A Round Face And Large Eyes Like A Frog And Both Footmen Alice Noticed Had Powdered Hair That Curled All Over Their Heads She Felt Very Curious To Know What It Was All About And Crept A Little Way Out Of The Wood To Listen\\nThe Fish-Footman Began By Producing From Under His Arm A Great Letter Nearly As Large As Himself And This He Handed Over To The Other Saying In A Solemn Tone ‘For The Duchess An Invitation From The Queen To Play Croquet’ The Frog-Footman Repeated In The Same Solemn Tone Only Changing The Order Of The Words A Little ‘From The Queen An Invitation For The Duchess To Play Croquet’\\nThen They Both Bowed Low And Their Curls Got Entangled Together\\nAlice Laughed So Much At This That She Had To Run Back Into The Wood For Fear Of Their Hearing Her And When She Next Peeped Out The Fish-Footman Was Gone And The Other Was Sitting On The Ground Near The Door Staring Stupidly Up Into The Sky\\nAlice Went Timidly Up To The Door And Knocked\\n‘There’S No Sort Of Use In Knocking’ Said The Footman ‘And That For Two Reasons First Because I’M On The Same Side Of The Door As You Are Secondly Because They’Re Making Such A Noise Inside No One Could Possibly Hear You’ And Certainly There Was A Most Extraordinary Noise Going On Within—A Constant Howling And Sneezing And Every Now And Then A Great Crash As If A Dish Or Kettle Had Been Broken To Pieces\\n‘Please Then’ Said Alice ‘How Am I To Get In’\\n‘There Might Be Some Sense In Your Knocking’ The Footman Went On Without Attending To Her ‘If We Had The Door Between Us For Instance If You Were Inside You Might Knock And I Could Let You Out You Know’ He Was Looking Up Into The Sky All The Time He Was Speaking And This Alice Thought Decidedly Uncivil ‘But Perhaps He Can’T Help It’ She Said To Herself ‘His Eyes Are So Very Nearly At The Top Of His Head But At Any Rate He Might Answer Questions—How Am I To Get In’ She Repeated Aloud\\n‘I Shall Sit Here’ The Footman Remarked ‘Till Tomorrow—’\\nAt This Moment The Door Of The House Opened And A Large Plate Came Skimming Out Straight At The Footman’S Head: It Just Grazed His Nose And Broke To Pieces Against One Of The Trees Behind Him'"
      ]
     },
     "execution_count": 286,
     "metadata": {},
     "output_type": "execute_result"
    }
   ],
   "source": [
    "file = open(\"homework2.txt\",\"r\")\n",
    "text = file.read()\n",
    "text.title()"
   ]
  },
  {
   "cell_type": "markdown",
   "metadata": {},
   "source": [
    "# Numpy"
   ]
  },
  {
   "cell_type": "markdown",
   "metadata": {},
   "source": [
    "## 1. Given a list, find the average using a numpy function. "
   ]
  },
  {
   "cell_type": "code",
   "execution_count": 81,
   "metadata": {},
   "outputs": [
    {
     "name": "stdout",
     "output_type": "stream",
     "text": [
      "3.375\n"
     ]
    }
   ],
   "source": [
    "simple_list = [1,2,1,4,3,2,5,9]\n",
    "\n",
    "print(np.average(simple_list))"
   ]
  },
  {
   "cell_type": "markdown",
   "metadata": {},
   "source": [
    "## 2. Given two lists of Heights and Weights of individual, calculate the BMI of those individuals, without writing a `for-loop`"
   ]
  },
  {
   "cell_type": "code",
   "execution_count": 287,
   "metadata": {},
   "outputs": [],
   "source": [
    "heights = [174, 173, 173, 175, 171]\n",
    "weights = [88, 83, 92, 74, 77]\n",
    "\n",
    "h1 = np.array(heights)\n",
    "w1 = np.array(weights)"
   ]
  },
  {
   "cell_type": "code",
   "execution_count": 288,
   "metadata": {},
   "outputs": [
    {
     "name": "stdout",
     "output_type": "stream",
     "text": [
      "[29.06592681 27.73229978 30.73941662 24.16326531 26.33288875]\n"
     ]
    }
   ],
   "source": [
    "h1_meters = h1*.01\n",
    "bmi = w1/(h1_meters**2)\n",
    "print(bmi)"
   ]
  },
  {
   "cell_type": "markdown",
   "metadata": {},
   "source": [
    "## 3. Create an array of length 20 filled with random values (between 0 to 1) "
   ]
  },
  {
   "cell_type": "code",
   "execution_count": 289,
   "metadata": {},
   "outputs": [
    {
     "data": {
      "text/plain": [
       "array([0.18383334, 0.18018102, 0.97170173, 0.05226617, 0.82817607,\n",
       "       0.36535088, 0.75442001, 0.73091273, 0.61764572, 0.3468134 ,\n",
       "       0.79131163, 0.76438588, 0.88339726, 0.25616843, 0.80494369,\n",
       "       0.1746179 , 0.0463336 , 0.20407676, 0.35422893, 0.22196667])"
      ]
     },
     "execution_count": 289,
     "metadata": {},
     "output_type": "execute_result"
    }
   ],
   "source": [
    "np.random.rand(20)"
   ]
  },
  {
   "cell_type": "markdown",
   "metadata": {},
   "source": [
    "## Bonus. 1. Create an array with a large (>1000) length filled with random numbers from different distributions (normal, uniform, etc.). 2. Then, plot a histogram of these values. "
   ]
  },
  {
   "cell_type": "markdown",
   "metadata": {},
   "source": [
    "# Pandas"
   ]
  },
  {
   "cell_type": "markdown",
   "metadata": {},
   "source": [
    "## 1. Read in a CSV () and display all the columns and their respective data types "
   ]
  },
  {
   "cell_type": "code",
   "execution_count": 290,
   "metadata": {},
   "outputs": [
    {
     "data": {
      "text/plain": [
       "id         int64\n",
       "sex       object\n",
       "weight     int64\n",
       "height     int64\n",
       "dtype: object"
      ]
     },
     "execution_count": 290,
     "metadata": {},
     "output_type": "execute_result"
    }
   ],
   "source": [
    "df = pd.read_csv('hw_data.csv')\n",
    "df.dtypes"
   ]
  },
  {
   "cell_type": "markdown",
   "metadata": {},
   "source": [
    "## 2. Find the average weight "
   ]
  },
  {
   "cell_type": "code",
   "execution_count": 291,
   "metadata": {},
   "outputs": [
    {
     "data": {
      "text/plain": [
       "135.71428571428572"
      ]
     },
     "execution_count": 291,
     "metadata": {},
     "output_type": "execute_result"
    }
   ],
   "source": [
    "df[\"weight\"].mean()"
   ]
  },
  {
   "cell_type": "markdown",
   "metadata": {},
   "source": [
    "## 3. Find the Value Counts on column `sex` "
   ]
  },
  {
   "cell_type": "code",
   "execution_count": 292,
   "metadata": {
    "scrolled": true
   },
   "outputs": [
    {
     "data": {
      "text/plain": [
       "F    3\n",
       "M    3\n",
       "O    1\n",
       "Name: sex, dtype: int64"
      ]
     },
     "execution_count": 292,
     "metadata": {},
     "output_type": "execute_result"
    }
   ],
   "source": [
    "df[\"sex\"].value_counts()"
   ]
  },
  {
   "cell_type": "markdown",
   "metadata": {},
   "source": [
    "## 4. Plot Height vs. Weight "
   ]
  },
  {
   "cell_type": "code",
   "execution_count": 295,
   "metadata": {},
   "outputs": [
    {
     "data": {
      "text/plain": [
       "<matplotlib.axes._subplots.AxesSubplot at 0x115f8bf28>"
      ]
     },
     "execution_count": 295,
     "metadata": {},
     "output_type": "execute_result"
    },
    {
     "data": {
      "image/png": "[encoded data removed]",
      "text/plain": [
       "<Figure size 432x288 with 1 Axes>"
      ]
     },
     "metadata": {},
     "output_type": "display_data"
    }
   ],
   "source": [
    "df.plot(x = \"weight\",y = \"height\", kind = \"scatter\")"
   ]
  },
  {
   "cell_type": "markdown",
   "metadata": {},
   "source": [
    "## 5. Calculate BMI and save as a new column"
   ]
  },
  {
   "cell_type": "code",
   "execution_count": 296,
   "metadata": {},
   "outputs": [
    {
     "data": {
      "text/html": [
       "<div>\n",
       "<style scoped>\n",
       "    .dataframe tbody tr th:only-of-type {\n",
       "        vertical-align: middle;\n",
       "    }\n",
       "\n",
       "    .dataframe tbody tr th {\n",
       "        vertical-align: top;\n",
       "    }\n",
       "\n",
       "    .dataframe thead th {\n",
       "        text-align: right;\n",
       "    }\n",
       "</style>\n",
       "<table border=\"1\" class=\"dataframe\">\n",
       "  <thead>\n",
       "    <tr style=\"text-align: right;\">\n",
       "      <th></th>\n",
       "      <th>id</th>\n",
       "      <th>sex</th>\n",
       "      <th>weight</th>\n",
       "      <th>height</th>\n",
       "      <th>weightmetric</th>\n",
       "      <th>heightmetric</th>\n",
       "      <th>bmi</th>\n",
       "    </tr>\n",
       "  </thead>\n",
       "  <tbody>\n",
       "    <tr>\n",
       "      <th>0</th>\n",
       "      <td>1</td>\n",
       "      <td>M</td>\n",
       "      <td>190</td>\n",
       "      <td>77</td>\n",
       "      <td>86.18248</td>\n",
       "      <td>1.9558</td>\n",
       "      <td>22.530462</td>\n",
       "    </tr>\n",
       "    <tr>\n",
       "      <th>1</th>\n",
       "      <td>2</td>\n",
       "      <td>F</td>\n",
       "      <td>120</td>\n",
       "      <td>70</td>\n",
       "      <td>54.43104</td>\n",
       "      <td>1.7780</td>\n",
       "      <td>17.218016</td>\n",
       "    </tr>\n",
       "    <tr>\n",
       "      <th>2</th>\n",
       "      <td>3</td>\n",
       "      <td>F</td>\n",
       "      <td>110</td>\n",
       "      <td>68</td>\n",
       "      <td>49.89512</td>\n",
       "      <td>1.7272</td>\n",
       "      <td>16.725257</td>\n",
       "    </tr>\n",
       "    <tr>\n",
       "      <th>3</th>\n",
       "      <td>4</td>\n",
       "      <td>M</td>\n",
       "      <td>150</td>\n",
       "      <td>72</td>\n",
       "      <td>68.03880</td>\n",
       "      <td>1.8288</td>\n",
       "      <td>20.343432</td>\n",
       "    </tr>\n",
       "    <tr>\n",
       "      <th>4</th>\n",
       "      <td>5</td>\n",
       "      <td>O</td>\n",
       "      <td>120</td>\n",
       "      <td>66</td>\n",
       "      <td>54.43104</td>\n",
       "      <td>1.6764</td>\n",
       "      <td>19.368292</td>\n",
       "    </tr>\n",
       "    <tr>\n",
       "      <th>5</th>\n",
       "      <td>6</td>\n",
       "      <td>M</td>\n",
       "      <td>120</td>\n",
       "      <td>60</td>\n",
       "      <td>54.43104</td>\n",
       "      <td>1.5240</td>\n",
       "      <td>23.435634</td>\n",
       "    </tr>\n",
       "    <tr>\n",
       "      <th>6</th>\n",
       "      <td>7</td>\n",
       "      <td>F</td>\n",
       "      <td>140</td>\n",
       "      <td>70</td>\n",
       "      <td>63.50288</td>\n",
       "      <td>1.7780</td>\n",
       "      <td>20.087686</td>\n",
       "    </tr>\n",
       "  </tbody>\n",
       "</table>\n",
       "</div>"
      ],
      "text/plain": [
       "   id sex  weight  height  weightmetric  heightmetric        bmi\n",
       "0   1   M     190      77      86.18248        1.9558  22.530462\n",
       "1   2   F     120      70      54.43104        1.7780  17.218016\n",
       "2   3   F     110      68      49.89512        1.7272  16.725257\n",
       "3   4   M     150      72      68.03880        1.8288  20.343432\n",
       "4   5   O     120      66      54.43104        1.6764  19.368292\n",
       "5   6   M     120      60      54.43104        1.5240  23.435634\n",
       "6   7   F     140      70      63.50288        1.7780  20.087686"
      ]
     },
     "execution_count": 296,
     "metadata": {},
     "output_type": "execute_result"
    }
   ],
   "source": [
    "df_bmi = df\n",
    "#converting weight to kg and height to meters\n",
    "df_bmi[\"weightmetric\"] = df_bmi[\"weight\"]*0.453592\n",
    "df_bmi[\"heightmetric\"] = df_bmi[\"height\"]*0.0254\n",
    "#calcuating bmi\n",
    "df[\"bmi\"] = (df_bmi[\"weightmetric\"]/(df_bmi[\"heightmetric\"]**2))\n",
    "df"
   ]
  },
  {
   "cell_type": "markdown",
   "metadata": {},
   "source": [
    "## 6. Save sheet as a new CSV file `hw_dataB.csv`"
   ]
  },
  {
   "cell_type": "code",
   "execution_count": 297,
   "metadata": {},
   "outputs": [],
   "source": [
    "df2.to_csv(\"hw_dataB.csv\")"
   ]
  },
  {
   "cell_type": "markdown",
   "metadata": {},
   "source": [
    "## Run the following"
   ]
  },
  {
   "cell_type": "code",
   "execution_count": 298,
   "metadata": {},
   "outputs": [
    {
     "name": "stdout",
     "output_type": "stream",
     "text": [
      ",id,sex,weight,height,weightmetric,heightmetric,bmi\r\n",
      "0,1,M,190,77,86.18248,1.9558,22.53046233196531\r\n",
      "1,2,F,120,70,54.431039999999996,1.778,17.21801647684928\r\n",
      "2,3,F,110,68,49.89512,1.7271999999999998,16.72525749895791\r\n",
      "3,4,M,150,72,68.0388,1.8288,20.343431890567484\r\n",
      "4,5,O,120,66,54.431039999999996,1.6764,19.368292180110533\r\n",
      "5,6,M,120,60,54.431039999999996,1.524,23.43563353793374\r\n",
      "6,7,F,140,70,63.50288,1.778,20.087685889657493\r\n"
     ]
    }
   ],
   "source": [
    "!cat hw_dataB.csv"
   ]
  }
 ],
 "metadata": {
  "kernelspec": {
   "display_name": "Python 3",
   "language": "python",
   "name": "python3"
  },
  "language_info": {
   "codemirror_mode": {
    "name": "ipython",
    "version": 3
   },
   "file_extension": ".py",
   "mimetype": "text/x-python",
   "name": "python",
   "nbconvert_exporter": "python",
   "pygments_lexer": "ipython3",
   "version": "3.6.5"
  }
 },
 "nbformat": 4,
 "nbformat_minor": 1
}
